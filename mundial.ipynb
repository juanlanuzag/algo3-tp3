{
 "cells": [
  {
   "cell_type": "code",
   "execution_count": null,
   "metadata": {},
   "outputs": [],
   "source": [
    "import pandas as pd\n",
    "import numpy as np\n",
    "import matplotlib.pyplot as plt\n",
    "import os\n",
    "import csv\n",
    "import subprocess\n",
    "import sys\n",
    "\n",
    "# Path del binario del genético\n",
    "binario = 'bin/genetic_trainer'\n",
    "\n",
    "# Cosas que no tocaremos\n",
    "generaciones = 100\n",
    "cross = 'c:completo'\n",
    "mut = 'm:multi'\n",
    "\n",
    "# Para crear el comando que ejecuta el genético\n",
    "def comando_genetico(n,m,c,p,fitness, seleccion,pob,p_mut):\n",
    "    res = [binario] + [str(n)]+[str(m)]+[str(c)]+[str(p)]\n",
    "    res = res+ [str(generaciones)] +[str(pob)]+[str(p_mut)]\n",
    "    res = res+[fitness]+[seleccion]+[cross]+[mut]\n",
    "    return res\n",
    "\n",
    "# Para ejecutar subprocess en shell con stdout live\n",
    "def shell(command):\n",
    "    p = subprocess.Popen(command, stdout=subprocess.PIPE, bufsize=1)\n",
    "    for line in iter(p.stdout.readline, b''):\n",
    "        sys.stdout.write(line)\n",
    "    p.stdout.close()\n",
    "    p.wait()\n",
    "\n",
    "        \n",
    "# Para guardar los logs\n",
    "\n",
    "# Leo los fitness, los formateo en lista\n",
    "def save_logs(path):\n",
    "    with open('log/best_fitness_log.dat') as file:\n",
    "        lista = file.read().splitlines()\n",
    "    fitness = list(map(float, lista))\n",
    "\n",
    "    # Leo los progenitores, los formateo en lista \n",
    "    with open('log/progenitores.dat') as file:\n",
    "        lista = file.read().splitlines()\n",
    "    for i in range(len(lista)):\n",
    "        lista[i] = lista[i].split(',')\n",
    "        lista[i] = list(map(float, lista[i]))\n",
    "    progenitores = lista\n",
    "\n",
    "    # Leo el ganador\n",
    "    with open('log/ganador.dat') as file:\n",
    "        lista = file.read().splitlines()\n",
    "    ganador_fitness = float(lista[0])\n",
    "    ganador_genoma = list(map(float, lista[1].split(',')))\n",
    "\n",
    "    # Guardo todo como una super tupla\n",
    "    np.save(path,(fitness,progenitores,ganador_fitness,ganador_genoma))"
   ]
  },
  {
   "cell_type": "markdown",
   "metadata": {},
   "source": [
    "## Variables\n",
    "\n",
    "N=[4,5,6,7,8,9]\n",
    "\n",
    "M = [N-1,N,N+1]\n",
    "\n",
    "C = [3,4,5,6] (los que sean posibles)\n",
    "\n",
    "La cantidad de fichas siempre es N*M.\n"
   ]
  },
  {
   "cell_type": "code",
   "execution_count": null,
   "metadata": {},
   "outputs": [],
   "source": [
    "fit = 'f:vs_golosos'\n",
    "sel = 's:rank'\n",
    "p_mut = 0.1\n",
    "pob = 10"
   ]
  },
  {
   "cell_type": "markdown",
   "metadata": {},
   "source": [
    "## Nico"
   ]
  },
  {
   "cell_type": "code",
   "execution_count": null,
   "metadata": {},
   "outputs": [],
   "source": [
    "NN = [6,7]\n",
    "CC = [3,4,5,6]"
   ]
  },
  {
   "cell_type": "code",
   "execution_count": null,
   "metadata": {},
   "outputs": [],
   "source": [
    "for N in NN:\n",
    "    for M in [N-1,N,N+1]:\n",
    "        for C in CC:\n",
    "            if C > N or C > M:\n",
    "                continue\n",
    "            if N == 6 and not(C ==6):\n",
    "                continue\n",
    "            P = 2*N*M\n",
    "            print('Entrenando para N=',N,' M=',M,' C=',C)\n",
    "            command = comando_genetico(N,M,C,P,fit,sel,pob,p_mut)  \n",
    "            # Ejecuto el entrenamiento. En ./log/ me deja los .dat como logs.\n",
    "            shell(command)\n",
    "            # Leo el ganador\n",
    "            with open('log/ganador.dat') as file:\n",
    "                lista = file.read().splitlines()\n",
    "            ganador_fitness = float(lista[0])\n",
    "            ganador_genoma = list(map(float, lista[1].split(',')))\n",
    "            path = 'mundial/'+str(N)+'x'+str(M)+'x'+str(C)\n",
    "            np.save(path,ganador_genoma)"
   ]
  },
  {
   "cell_type": "markdown",
   "metadata": {},
   "source": [
    "## Pab"
   ]
  },
  {
   "cell_type": "code",
   "execution_count": null,
   "metadata": {},
   "outputs": [],
   "source": [
    "NN = [8,9]\n",
    "CC = [3,4,5,6]"
   ]
  },
  {
   "cell_type": "code",
   "execution_count": null,
   "metadata": {},
   "outputs": [],
   "source": [
    "for N in NN:\n",
    "    for M in [N-1,N,N+1]:\n",
    "        for C in CC:\n",
    "            if C > N or C > M:\n",
    "                continue\n",
    "            P = 2*N*M\n",
    "            print('Entrenando para N=',N,' M=',M,' C=',C)\n",
    "            command = comando_genetico(N,M,C,P,fit,sel,pob,p_mut)  \n",
    "            # Ejecuto el entrenamiento. En ./log/ me deja los .dat como logs.\n",
    "            shell(command)\n",
    "            # Leo el ganador\n",
    "            with open('log/ganador.dat') as file:\n",
    "                lista = file.read().splitlines()\n",
    "            ganador_fitness = float(lista[0])\n",
    "            ganador_genoma = list(map(float, lista[1].split(',')))\n",
    "            path = 'mundial/'+str(N)+'x'+str(M)+'x'+str(C)\n",
    "            np.save(path,ganador_genoma)"
   ]
  },
  {
   "cell_type": "code",
   "execution_count": null,
   "metadata": {},
   "outputs": [],
   "source": []
  }
 ],
 "metadata": {
  "kernelspec": {
   "display_name": "Python 3",
   "language": "python",
   "name": "python3"
  },
  "language_info": {
   "codemirror_mode": {
    "name": "ipython",
    "version": 3
   },
   "file_extension": ".py",
   "mimetype": "text/x-python",
   "name": "python",
   "nbconvert_exporter": "python",
   "pygments_lexer": "ipython3",
   "version": "3.5.2"
  },
  "toc": {
   "nav_menu": {},
   "number_sections": false,
   "sideBar": false,
   "skip_h1_title": false,
   "toc_cell": false,
   "toc_position": {},
   "toc_section_display": "block",
   "toc_window_display": true
  }
 },
 "nbformat": 4,
 "nbformat_minor": 2
}
