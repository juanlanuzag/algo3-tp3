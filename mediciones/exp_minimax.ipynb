{
 "cells": [
  {
   "cell_type": "code",
   "execution_count": 4,
   "metadata": {},
   "outputs": [],
   "source": [
    "import pandas as pd\n",
    "import numpy as np\n",
    "import matplotlib.pyplot as plt\n",
    "import os\n",
    "import csv\n",
    "\n",
    "# Paths del binario que mide tiempos\n",
    "medidor = './tiempos'\n",
    "unidad = 'micros'\n",
    "\n",
    "# Variables de estadísticos\n",
    "muestras = 4\n"
   ]
  },
  {
   "cell_type": "markdown",
   "metadata": {},
   "source": [
    "# Impacto de C en minimax\n",
    "Para distintos M,N medir los tiempos de C = 1 ... min(M,N)"
   ]
  },
  {
   "cell_type": "code",
   "execution_count": null,
   "metadata": {},
   "outputs": [],
   "source": [
    "ai = '-m'\n",
    "NN = [1,2,3,4]\n",
    "MM = [1,2,3,4]\n",
    "# C de 1 a min(M,N)\n",
    "\n",
    "tiempos = np.zeros((4,4,4))\n",
    "\n",
    "for N in NN:\n",
    "    for M in MM:\n",
    "        for C in range(1,min(N,M)+1):\n",
    "            tt = []\n",
    "            for k in range(muestras):\n",
    "                print(k,end=\" \")\n",
    "                P = N*M\n",
    "                command = medidor+' '+str(N)+' '+str(M)+' '+str(C)+' '+str(P)\n",
    "                command+=' -t '+unidad+' '+ai\n",
    "                tt.append(float(os.popen(command).read()))\n",
    "            print(command,np.min(tt))\n",
    "            tiempos[N-1][M-1][C-1] = np.min(tt)\n",
    "np.save('save/tiempos_C_minimax.npy',tiempos)\n",
    "\n"
   ]
  },
  {
   "cell_type": "code",
   "execution_count": null,
   "metadata": {},
   "outputs": [],
   "source": [
    "tiempos = np.load('save/tiempos_C_minimax.npy')\n",
    "CC = [1,2,3,4]\n",
    "# Format plot\n",
    "plt.figure()\n",
    "plt.xticks(CC)\n",
    "plt.yscale('log')\n",
    "plt.xlabel('C')\n",
    "plt.ylabel('Tiempo de cómputo [microsegundos]')\n",
    "\n",
    "# Data\n",
    "plt.plot(CC,tiempos[3][3],label='Tablero de 4x4')\n",
    "plt.plot(CC,tiempos[3][2],label='Tablero de 4x3')\n",
    "plt.plot(CC,tiempos[2][3],label='Tablero de 3x4')\n",
    "plt.plot(CC,tiempos[2][2],label='Tablero de 3x3')\n",
    "plt.plot(CC,tiempos[2][1],label='Tablero de 3x2')\n",
    "plt.plot(CC,tiempos[1][2],label='Tablero de 2x3')\n",
    "plt.legend(loc='best')\n",
    "plt.savefig('plots/minimax_C.pdf')\n",
    "plt.show()\n"
   ]
  },
  {
   "cell_type": "code",
   "execution_count": null,
   "metadata": {},
   "outputs": [],
   "source": []
  },
  {
   "cell_type": "markdown",
   "metadata": {},
   "source": [
    "# Impacto de M en minimax\n",
    "Fijar N = 3, C = 3 y variar M"
   ]
  },
  {
   "cell_type": "code",
   "execution_count": null,
   "metadata": {},
   "outputs": [],
   "source": [
    "ai = '-m'\n",
    "N = 3\n",
    "C = 3\n",
    "MM = [3,4,5,6,7]\n",
    "\n",
    "tiempos = np.zeros(len(MM))\n",
    "\n",
    "for M in MM:\n",
    "    tt = []\n",
    "    for k in range(muestras):\n",
    "        print(k,end=\" \")\n",
    "        P = N*M\n",
    "        command = medidor+' '+str(N)+' '+str(M)+' '+str(C)+' '+str(P)\n",
    "        command+=' -t '+unidad+' '+ai\n",
    "        tt.append(float(os.popen(command).read()))\n",
    "    print(command,np.min(tt))\n",
    "    tiempos[M-3] = np.min(tt)\n",
    "np.save('save/tiempos_M_minimax.npy',tiempos)\n",
    "\n"
   ]
  },
  {
   "cell_type": "code",
   "execution_count": null,
   "metadata": {},
   "outputs": [],
   "source": [
    "tiempos = np.load('save/tiempos_M_minimax.npy')\n",
    "MM = [3,4,5,6,7]\n",
    "# Format plot\n",
    "plt.figure()\n",
    "plt.xticks(MM)\n",
    "plt.yscale('log')\n",
    "plt.xlabel('M (filas)')\n",
    "plt.ylabel('Tiempo de cómputo [microsegundos]')\n",
    "\n",
    "# Data\n",
    "plt.plot(MM,tiempos)\n",
    "plt.plot(MM,tiempos,'ro',label='Tablero de 3 en línea \\ncon 3 columnas')\n",
    "plt.legend(loc='center left',bbox_to_anchor=(0.05,0.7))\n",
    "plt.savefig('plots/minimax_M.pdf')\n",
    "plt.show()\n"
   ]
  },
  {
   "cell_type": "code",
   "execution_count": null,
   "metadata": {},
   "outputs": [],
   "source": []
  },
  {
   "cell_type": "markdown",
   "metadata": {},
   "source": [
    "# Impacto de N en minimax\n",
    "Fijar M = 4, C = min(M,N) y variar N\n",
    "Explicar por qué es difícil medir bien esto. Por qué es difícil fijar C, etc."
   ]
  },
  {
   "cell_type": "code",
   "execution_count": null,
   "metadata": {},
   "outputs": [],
   "source": [
    "ai = '-m'\n",
    "M = 4\n",
    "NN = [1,2,3,4]\n",
    "\n",
    "tiempos = np.zeros(len(NN))\n",
    "\n",
    "for N in NN:\n",
    "    tt = []\n",
    "    for k in range(muestras):\n",
    "        print(k,end=\" \")\n",
    "        C = min(M,N)\n",
    "        P = N*M\n",
    "        command = medidor+' '+str(N)+' '+str(M)+' '+str(C)+' '+str(P)\n",
    "        command+=' -t '+unidad+' '+ai\n",
    "        tt.append(float(os.popen(command).read()))\n",
    "    print(command,np.min(tt))\n",
    "    tiempos[N-1] = np.min(tt)\n",
    "np.save('save/tiempos_N_minimax.npy',tiempos)\n",
    "\n"
   ]
  },
  {
   "cell_type": "code",
   "execution_count": 10,
   "metadata": {},
   "outputs": [
    {
     "data": {
      "image/png": "[encoded data removed]",
      "text/plain": [
       "<matplotlib.figure.Figure at 0x7fad3c4937b8>"
      ]
     },
     "metadata": {},
     "output_type": "display_data"
    }
   ],
   "source": [
    "tiempos = np.load('save/tiempos_N_minimax.npy')\n",
    "\n",
    "NN = [1,2,3,4]\n",
    "# Format plot\n",
    "plt.figure()\n",
    "plt.xticks(NN)\n",
    "plt.yscale('log')\n",
    "plt.xlabel('N (columnas)')\n",
    "plt.ylabel('Tiempo de cómputo [microsegundos]')\n",
    "\n",
    "# Data\n",
    "plt.plot(NN,tiempos)\n",
    "plt.plot(NN,tiempos,'ro',label='Tablero de 4 filas y C variable')\n",
    "plt.legend(loc='center left',bbox_to_anchor=(0.05,0.7))\n",
    "plt.savefig('plots/minimax_N.pdf')\n",
    "plt.show()\n"
   ]
  },
  {
   "cell_type": "code",
   "execution_count": 1,
   "metadata": {},
   "outputs": [
    {
     "name": "stdout",
     "output_type": "stream",
     "text": [
      "[1, 2, 3]\n"
     ]
    }
   ],
   "source": []
  },
  {
   "cell_type": "markdown",
   "metadata": {},
   "source": [
    "# Impacto de jugadas previas en minimax\n",
    "Fijar M,N y C agregar más o menos jugadas previas\n"
   ]
  },
  {
   "cell_type": "code",
   "execution_count": 27,
   "metadata": {},
   "outputs": [
    {
     "name": "stdout",
     "output_type": "stream",
     "text": [
      "0 1 2 3 ./tiempos 4 5 3 40 -t micros -m --jugadas 0 2 0 2 3 27468.0\n",
      "0 1 2 3 ./tiempos 4 5 3 40 -t micros -m --jugadas 0 1 2 3 723479.0\n",
      "0 1 2 3 ./tiempos 4 5 3 40 -t micros -m --jugadas 0 1 2 1916280.0\n",
      "0 1 2 3 ./tiempos 4 5 3 40 -t micros -m --jugadas 0 1 5695220.0\n",
      "0 1 2 3 ./tiempos 4 5 3 40 -t micros -m --jugadas 0 21885700.0\n",
      "0 1 2 3 ./tiempos 4 5 3 40 -t micros -m --jugadas 81327900.0\n"
     ]
    }
   ],
   "source": [
    "ai = '-m'\n",
    "M = 5\n",
    "N = 4\n",
    "C = 3\n",
    "P = N*M*2\n",
    "\n",
    "jugadas_previas = [[0,2,0,2,3],[0,1,2,3],[0,1,2],[0,1],[0],[]]\n",
    "tiempos = np.zeros(len(jugadas_previas))\n",
    "\n",
    "it = 0\n",
    "for jj in jugadas_previas:\n",
    "    tt = []\n",
    "    for k in range(muestras):\n",
    "        print(k,end=\" \")\n",
    "        command = medidor+' '+str(N)+' '+str(M)+' '+str(C)+' '+str(P)\n",
    "        command+=' -t '+unidad+' '+ai+' --jugadas'\n",
    "        for j in jj:\n",
    "            command+=' '+str(j)\n",
    "        tt.append(float(os.popen(command).read()))\n",
    "    print(command,np.min(tt))\n",
    "    tiempos[it] = np.min(tt)\n",
    "    it += 1\n",
    "\n",
    "np.save('save/tiempos_jugadas_minimax.npy',tiempos)\n",
    "\n"
   ]
  },
  {
   "cell_type": "code",
   "execution_count": 30,
   "metadata": {},
   "outputs": [
    {
     "data": {
      "image/png": "[encoded data removed]",
      "text/plain": [
       "<matplotlib.figure.Figure at 0x7fad3c4e7b38>"
      ]
     },
     "metadata": {},
     "output_type": "display_data"
    }
   ],
   "source": [
    "tiempos = np.load('save/tiempos_jugadas_minimax.npy')\n",
    "\n",
    "cant = [5,4,3,2,1,0]\n",
    "# Format plot\n",
    "plt.figure()\n",
    "plt.xticks(cant)\n",
    "plt.yscale('log')\n",
    "plt.xlabel('Cantidad de jugadas previas')\n",
    "plt.ylabel('Tiempo de cómputo [microsegundos]')\n",
    "\n",
    "# Data\n",
    "plt.plot(cant,tiempos)\n",
    "plt.plot(cant,tiempos,'ro',label='Tablero de 3 en línea \\nde 4 columnas y 5 filas')\n",
    "plt.legend(loc='best')\n",
    "plt.savefig('plots/minimax_jugadas.pdf')\n",
    "plt.show()\n"
   ]
  },
  {
   "cell_type": "code",
   "execution_count": null,
   "metadata": {},
   "outputs": [],
   "source": []
  }
 ],
 "metadata": {
  "kernelspec": {
   "display_name": "Python 3",
   "language": "python",
   "name": "python3"
  },
  "language_info": {
   "codemirror_mode": {
    "name": "ipython",
    "version": 3
   },
   "file_extension": ".py",
   "mimetype": "text/x-python",
   "name": "python",
   "nbconvert_exporter": "python",
   "pygments_lexer": "ipython3",
   "version": "3.5.2"
  }
 },
 "nbformat": 4,
 "nbformat_minor": 2
}
