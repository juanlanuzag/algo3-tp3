{
 "cells": [
  {
   "cell_type": "code",
   "execution_count": 44,
   "metadata": {},
   "outputs": [],
   "source": [
    "import pandas as pd\n",
    "import numpy as np\n",
    "import matplotlib.pyplot as plt\n",
    "import os\n",
    "import csv\n",
    "import subprocess\n",
    "import sys\n",
    "\n",
    "# Path del binario del genético\n",
    "binario = '../bin/genetic_trainer'\n",
    "\n",
    "# Cosas que no tocaremos\n",
    "n = 7\n",
    "m = 6\n",
    "c = 4\n",
    "p = str(n*m*2)\n",
    "generaciones = 100\n",
    "cross = 'c:completo'\n",
    "mut = 'm:multi'\n",
    "\n",
    "# Para crear el comando que ejecuta el genético\n",
    "def comando_genetico(fitness, seleccion,pob,p_mut):\n",
    "    res = [binario] + [str(n)]+[str(m)]+[str(c)]+[str(p)]\n",
    "    res = res+ [str(generaciones)] +[str(pob)]+[str(p_mut)]\n",
    "    res = res+[fitness]+[seleccion]+[cross]+[mut]\n",
    "    return res\n",
    "\n",
    "# Para ejecutar subprocess en shell con stdout live\n",
    "def shell(command):\n",
    "    p = subprocess.Popen(command, stdout=subprocess.PIPE, bufsize=1)\n",
    "    for line in iter(p.stdout.readline, b''):\n",
    "        sys.stdout.write(line)\n",
    "    p.stdout.close()\n",
    "    p.wait()\n",
    "\n",
    "        \n",
    "# Para guardar los logs\n",
    "\n",
    "# Leo los fitness, los formateo en lista\n",
    "def save_logs(path):\n",
    "    with open('log/best_fitness_log.dat') as file:\n",
    "        lista = file.read().splitlines()\n",
    "    fitness = list(map(float, lista))\n",
    "\n",
    "    # Leo los progenitores, los formateo en lista \n",
    "    with open('log/progenitores.dat') as file:\n",
    "        lista = file.read().splitlines()\n",
    "    for i in range(len(lista)):\n",
    "        lista[i] = lista[i].split(',')\n",
    "        lista[i] = list(map(float, lista[i]))\n",
    "    progenitores = lista\n",
    "\n",
    "    # Leo el ganador\n",
    "    with open('log/ganador.dat') as file:\n",
    "        lista = file.read().splitlines()\n",
    "    ganador_fitness = float(lista[0])\n",
    "    ganador_genoma = list(map(float, lista[1].split(',')))\n",
    "\n",
    "    # Guardo todo como una super tupla\n",
    "    np.save(path,(fitness,progenitores,ganador_fitness,ganador_genoma))"
   ]
  },
  {
   "cell_type": "markdown",
   "metadata": {},
   "source": [
    "\n",
    "# FITNESS:  vs random\n",
    "# SELECTION: rank\n",
    "# pob = 20\n",
    "# mutp = 0.02\n"
   ]
  },
  {
   "cell_type": "code",
   "execution_count": null,
   "metadata": {
    "scrolled": true
   },
   "outputs": [],
   "source": [
    "fit = 'f:fixture'\n",
    "sel = 's:rank'\n",
    "pob = 20\n",
    "p_mut = 0.02\n",
    "command = comando_genetico(fit,sel,pob,p_mut)\n",
    "\n",
    "# Ejecuto el entrenamiento. En ./log/ me deja los .dat como logs.\n",
    "shell(command)\n",
    "\n",
    "# Guardo los logs\n",
    "save_logs('save/genetico/log_20_0.02.npy')"
   ]
  },
  {
   "cell_type": "code",
   "execution_count": null,
   "metadata": {},
   "outputs": [],
   "source": []
  },
  {
   "cell_type": "code",
   "execution_count": null,
   "metadata": {
    "scrolled": true
   },
   "outputs": [],
   "source": [
    "(fitness,progenitores,ganador_fitness,ganador_genoma) = np.load('save/genetico/log_20_0.02.npy')\n",
    "\n",
    "plt.plot(fitness)\n",
    "plt.xlabel('Generación')\n",
    "plt.ylabel('Fitness')\n",
    "plt.axhline(y=ganador_fitness, color='r', linestyle='-')\n",
    "plt.plot()\n",
    "plt.show()\n",
    "\n",
    "plt.figure()\n",
    "\n",
    "for i in range(len(progenitores[0])):\n",
    "    plt.plot([genoma[i] for genoma in progenitores],label = 'id %s'%i)\n",
    "    \n",
    "plt.show()"
   ]
  }
 ],
 "metadata": {
  "kernelspec": {
   "display_name": "Python 3",
   "language": "python",
   "name": "python3"
  }
 },
 "nbformat": 4,
 "nbformat_minor": 2
}
