{
 "cells": [
  {
   "cell_type": "code",
   "execution_count": 1,
   "metadata": {
    "collapsed": true
   },
   "outputs": [],
   "source": [
    "import pandas as pd\n",
    "import numpy as np\n",
    "import matplotlib.pyplot as plt\n",
    "import os\n",
    "import csv\n",
    "import subprocess\n",
    "import sys\n",
    "\n",
    "# Path del binario del genético\n",
    "binario = '../bin/genetic_trainer'\n",
    "\n",
    "# Cosas que no tocaremos\n",
    "n = 7\n",
    "m = 6\n",
    "c = 4\n",
    "p = str(n*m*2)\n",
    "generaciones = 50\n",
    "cross = 'c:completo'\n",
    "mut = 'm:multi'\n",
    "\n",
    "# Para crear el comando que ejecuta el genético\n",
    "def comando_genetico(fitness, seleccion,pob,p_mut):\n",
    "    res = [binario] + [str(n)]+[str(m)]+[str(c)]+[str(p)]\n",
    "    res = res+ [str(generaciones)] +[str(pob)]+[str(p_mut)]\n",
    "    res = res+[fitness]+[seleccion]+[cross]+[mut]\n",
    "    return res\n",
    "\n",
    "# Para ejecutar subprocess en shell con stdout live\n",
    "def shell(command):\n",
    "    p = subprocess.Popen(command, stdout=subprocess.PIPE, bufsize=1)\n",
    "    for line in iter(p.stdout.readline, b''):\n",
    "        sys.stdout.write(line)\n",
    "    p.stdout.close()\n",
    "    p.wait()\n",
    "\n",
    "        \n",
    "# Para guardar los logs\n",
    "\n",
    "# Leo los fitness, los formateo en lista\n",
    "def save_logs(path):\n",
    "    with open('log/best_fitness_log.dat') as file:\n",
    "        lista = file.read().splitlines()\n",
    "    fitness = list(map(float, lista))\n",
    "\n",
    "    # Leo los progenitores, los formateo en lista \n",
    "    with open('log/progenitores.dat') as file:\n",
    "        lista = file.read().splitlines()\n",
    "    for i in range(len(lista)):\n",
    "        lista[i] = lista[i].split(',')\n",
    "        lista[i] = list(map(float, lista[i]))\n",
    "    progenitores = lista\n",
    "\n",
    "    # Leo el ganador\n",
    "    with open('log/ganador.dat') as file:\n",
    "        lista = file.read().splitlines()\n",
    "    ganador_fitness = float(lista[0])\n",
    "    ganador_genoma = list(map(float, lista[1].split(',')))\n",
    "\n",
    "    # Guardo todo como una super tupla\n",
    "    np.save(path,(fitness,progenitores,ganador_fitness,ganador_genoma))"
   ]
  },
  {
   "cell_type": "markdown",
   "metadata": {},
   "source": [
    "## Cambiando proba mutacion"
   ]
  },
  {
   "cell_type": "code",
   "execution_count": 2,
   "metadata": {
    "collapsed": true
   },
   "outputs": [],
   "source": [
    "fit = 'f:vs_random'\n",
    "sel = 's:rank'\n",
    "pob = 10\n",
    "p_mut_s_pablo = [0.5,0.25,0.1]\n",
    "p_mut_s_nico = [0.05,0.02,0.005]\n",
    "p_mut_filename_pablo = [\"save/genetico/exp_p_mut_\" + str(pm) + \".npy\" for pm in p_mut_s_pablo]\n",
    "p_mut_filename_nico = [\"save/genetico/exp_p_mut_\" + str(pm) + \".npy\" for pm in p_mut_s_nico]"
   ]
  },
  {
   "cell_type": "markdown",
   "metadata": {},
   "source": [
    "## PABLO"
   ]
  },
  {
   "cell_type": "code",
   "execution_count": 3,
   "metadata": {},
   "outputs": [
    {
     "name": "stdout",
     "output_type": "stream",
     "text": [
      "LLAMANDO A: ../bin/genetic_trainer 7 6 4 84 50 10 0.5 f:vs_random s:rank c:completo m:multi\n",
      "Creando entrenador...\n",
      "-------------------------------------------------------\n",
      "Población: \t10\n",
      "Generaciones: \t50\n",
      "P(mutación): \t0.5\n",
      "Fitness: \tvs random\n",
      "Crossover: \tcompleto\n",
      "Selección: \tpor rank\n",
      "Mutación: \tmulti\n",
      "-------------------------------------------------------\n",
      "-------------------------------------------------------\n",
      "> generacion 1\n",
      "-------------------------------------------------------\n",
      "> calculando fitness\n"
     ]
    },
    {
     "ename": "KeyboardInterrupt",
     "evalue": "",
     "output_type": "error",
     "traceback": [
      "\u001b[0;31m---------------------------------------------------------------------------\u001b[0m",
      "\u001b[0;31mKeyboardInterrupt\u001b[0m                         Traceback (most recent call last)",
      "\u001b[0;32m<ipython-input-3-60e80bac6eb7>\u001b[0m in \u001b[0;36m<module>\u001b[0;34m()\u001b[0m\n\u001b[1;32m      3\u001b[0m     \u001b[0;32mprint\u001b[0m\u001b[0;34m(\u001b[0m\u001b[0;34m\"LLAMANDO A: \"\u001b[0m \u001b[0;34m+\u001b[0m \u001b[0mreduce\u001b[0m\u001b[0;34m(\u001b[0m\u001b[0;32mlambda\u001b[0m \u001b[0mx\u001b[0m\u001b[0;34m,\u001b[0m\u001b[0my\u001b[0m\u001b[0;34m:\u001b[0m \u001b[0mx\u001b[0m \u001b[0;34m+\u001b[0m\u001b[0;34m\" \"\u001b[0m\u001b[0;34m+\u001b[0m\u001b[0my\u001b[0m\u001b[0;34m,\u001b[0m \u001b[0mcommand\u001b[0m\u001b[0;34m)\u001b[0m\u001b[0;34m)\u001b[0m\u001b[0;34m\u001b[0m\u001b[0m\n\u001b[1;32m      4\u001b[0m     \u001b[0;31m# Ejecuto el entrenamiento. En ./log/ me deja los .dat como logs.\u001b[0m\u001b[0;34m\u001b[0m\u001b[0;34m\u001b[0m\u001b[0m\n\u001b[0;32m----> 5\u001b[0;31m     \u001b[0mshell\u001b[0m\u001b[0;34m(\u001b[0m\u001b[0mcommand\u001b[0m\u001b[0;34m)\u001b[0m\u001b[0;34m\u001b[0m\u001b[0m\n\u001b[0m\u001b[1;32m      6\u001b[0m     \u001b[0;31m# Guardo los logs\u001b[0m\u001b[0;34m\u001b[0m\u001b[0;34m\u001b[0m\u001b[0m\n\u001b[1;32m      7\u001b[0m     \u001b[0msave_logs\u001b[0m\u001b[0;34m(\u001b[0m\u001b[0mp_mut_filename_pablo\u001b[0m\u001b[0;34m[\u001b[0m\u001b[0mi\u001b[0m\u001b[0;34m]\u001b[0m\u001b[0;34m)\u001b[0m\u001b[0;34m\u001b[0m\u001b[0m\n",
      "\u001b[0;32m<ipython-input-1-56714cf5dafd>\u001b[0m in \u001b[0;36mshell\u001b[0;34m(command)\u001b[0m\n\u001b[1;32m     29\u001b[0m \u001b[0;32mdef\u001b[0m \u001b[0mshell\u001b[0m\u001b[0;34m(\u001b[0m\u001b[0mcommand\u001b[0m\u001b[0;34m)\u001b[0m\u001b[0;34m:\u001b[0m\u001b[0;34m\u001b[0m\u001b[0m\n\u001b[1;32m     30\u001b[0m     \u001b[0mp\u001b[0m \u001b[0;34m=\u001b[0m \u001b[0msubprocess\u001b[0m\u001b[0;34m.\u001b[0m\u001b[0mPopen\u001b[0m\u001b[0;34m(\u001b[0m\u001b[0mcommand\u001b[0m\u001b[0;34m,\u001b[0m \u001b[0mstdout\u001b[0m\u001b[0;34m=\u001b[0m\u001b[0msubprocess\u001b[0m\u001b[0;34m.\u001b[0m\u001b[0mPIPE\u001b[0m\u001b[0;34m,\u001b[0m \u001b[0mbufsize\u001b[0m\u001b[0;34m=\u001b[0m\u001b[0;36m1\u001b[0m\u001b[0;34m)\u001b[0m\u001b[0;34m\u001b[0m\u001b[0m\n\u001b[0;32m---> 31\u001b[0;31m     \u001b[0;32mfor\u001b[0m \u001b[0mline\u001b[0m \u001b[0;32min\u001b[0m \u001b[0miter\u001b[0m\u001b[0;34m(\u001b[0m\u001b[0mp\u001b[0m\u001b[0;34m.\u001b[0m\u001b[0mstdout\u001b[0m\u001b[0;34m.\u001b[0m\u001b[0mreadline\u001b[0m\u001b[0;34m,\u001b[0m \u001b[0;34mb''\u001b[0m\u001b[0;34m)\u001b[0m\u001b[0;34m:\u001b[0m\u001b[0;34m\u001b[0m\u001b[0m\n\u001b[0m\u001b[1;32m     32\u001b[0m         \u001b[0msys\u001b[0m\u001b[0;34m.\u001b[0m\u001b[0mstdout\u001b[0m\u001b[0;34m.\u001b[0m\u001b[0mwrite\u001b[0m\u001b[0;34m(\u001b[0m\u001b[0mline\u001b[0m\u001b[0;34m)\u001b[0m\u001b[0;34m\u001b[0m\u001b[0m\n\u001b[1;32m     33\u001b[0m     \u001b[0mp\u001b[0m\u001b[0;34m.\u001b[0m\u001b[0mstdout\u001b[0m\u001b[0;34m.\u001b[0m\u001b[0mclose\u001b[0m\u001b[0;34m(\u001b[0m\u001b[0;34m)\u001b[0m\u001b[0;34m\u001b[0m\u001b[0m\n",
      "\u001b[0;31mKeyboardInterrupt\u001b[0m: "
     ]
    }
   ],
   "source": [
    "for i in range(len(p_mut_s_pablo)):\n",
    "    command = comando_genetico(fit,sel,pob,p_mut_s_pablo[i])    \n",
    "    print(\"LLAMANDO A: \" + reduce(lambda x,y: x +\" \"+y, command))\n",
    "    # Ejecuto el entrenamiento. En ./log/ me deja los .dat como logs.\n",
    "    shell(command)\n",
    "    # Guardo los logs\n",
    "    save_logs(p_mut_filename_pablo[i])    "
   ]
  },
  {
   "cell_type": "markdown",
   "metadata": {},
   "source": [
    "## NICO"
   ]
  },
  {
   "cell_type": "code",
   "execution_count": null,
   "metadata": {},
   "outputs": [],
   "source": [
    "for i in range(len(p_mut_s_nico)):\n",
    "    command = comando_genetico(fit,sel,pob,p_mut_s_nico[i])    \n",
    "    # Ejecuto el entrenamiento. En ./log/ me deja los .dat como logs.\n",
    "    shell(command)\n",
    "    # Guardo los logs\n",
    "    save_logs(p_mut_filename_nico[i])  "
   ]
  },
  {
   "cell_type": "code",
   "execution_count": null,
   "metadata": {
    "collapsed": true,
    "scrolled": true
   },
   "outputs": [],
   "source": [
    "# (fitness,progenitores,ganador_fitness,ganador_genoma) = np.load('save/genetico/log_20_0.02.npy')\n",
    "\n",
    "# plt.plot(fitness)\n",
    "# plt.xlabel('Generación')\n",
    "# plt.ylabel('Fitness')\n",
    "# plt.axhline(y=ganador_fitness, color='r', linestyle='-')\n",
    "# plt.plot()\n",
    "# plt.show()\n",
    "\n",
    "# plt.figure()\n",
    "\n",
    "# for i in range(len(progenitores[0])):\n",
    "#     plt.plot([genoma[i] for genoma in progenitores],label = 'id %s'%i)\n",
    "    \n",
    "# plt.show()"
   ]
  }
 ],
 "metadata": {
  "kernelspec": {
   "display_name": "Python 2",
   "language": "python",
   "name": "python2"
  },
  "language_info": {
   "codemirror_mode": {
    "name": "ipython",
    "version": 2
   },
   "file_extension": ".py",
   "mimetype": "text/x-python",
   "name": "python",
   "nbconvert_exporter": "python",
   "pygments_lexer": "ipython2",
   "version": "2.7.13"
  },
  "toc": {
   "nav_menu": {},
   "number_sections": false,
   "sideBar": false,
   "skip_h1_title": false,
   "toc_cell": false,
   "toc_position": {},
   "toc_section_display": "block",
   "toc_window_display": true
  }
 },
 "nbformat": 4,
 "nbformat_minor": 2
}
