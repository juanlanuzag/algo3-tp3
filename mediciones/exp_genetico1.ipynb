{
 "cells": [
  {
   "cell_type": "code",
   "execution_count": null,
   "metadata": {},
   "outputs": [],
   "source": [
    "import pandas as pd\n",
    "import numpy as np\n",
    "import matplotlib.pyplot as plt\n",
    "import os\n",
    "import csv\n",
    "import subprocess\n",
    "import sys\n",
    "\n",
    "# Path del binario del genético\n",
    "binario = '../bin/genetic_trainer'\n",
    "\n",
    "# Cosas que no tocaremos\n",
    "n = 7\n",
    "m = 6\n",
    "c = 4\n",
    "p = str(n*m*2)\n",
    "generaciones = 100\n",
    "cross = 'c:completo'\n",
    "mut = 'm:multi'\n",
    "\n",
    "# Cosas que tocaremos al final\n",
    "p_mut = 0.1\n",
    "pob = 10\n",
    "\n",
    "# Para crear el comando que ejecuta el genético\n",
    "def comando_genetico(fitness, seleccion):\n",
    "    res = [binario] + [str(n)]+[str(m)]+[str(c)]+[str(p)]\n",
    "    res = res+ [str(generaciones)] +[str(pob)]+[str(p_mut)]\n",
    "    res = res+[fitness]+[seleccion]+[cross]+[mut]\n",
    "    return res\n",
    "\n",
    "# Para ejecutar subprocess en shell con stdout live\n",
    "def shell(command):\n",
    "    p = subprocess.Popen(command, stdout=subprocess.PIPE, bufsize=1)\n",
    "    for line in iter(p.stdout.readline, b''):\n",
    "        sys.stdout.write(line)\n",
    "    p.stdout.close()\n",
    "    p.wait()"
   ]
  },
  {
   "cell_type": "markdown",
   "metadata": {},
   "source": [
    "\n",
    "# FITNESS:  vs golosos random\n",
    "# SELECTION: probabilística\n"
   ]
  },
  {
   "cell_type": "code",
   "execution_count": null,
   "metadata": {
    "scrolled": true
   },
   "outputs": [],
   "source": [
    "fit = 'f:vs_golosos'\n",
    "sel = 's:proba'\n",
    "command = comando_genetico(fit,sel)\n",
    "\n",
    "# Ejecuto el entrenamiento. En ./log/ me deja los .dat como logs.\n",
    "shell(command)\n",
    "\n",
    "# Leo los fitness, los formateo en lista\n",
    "with open('log/best_fitness_log.dat') as file:\n",
    "    lista = file.read().splitlines()\n",
    "fitness = list(map(float, lista))\n",
    "\n",
    "# Leo los progenitores, los formateo en lista \n",
    "with open('log/progenitores.dat') as file:\n",
    "    lista = file.read().splitlines()\n",
    "for i in range(len(lista)):\n",
    "    lista[i] = lista[i].split(',')\n",
    "    lista[i] = list(map(float, lista[i]))\n",
    "progenitores = lista\n",
    "\n",
    "# Leo el ganador\n",
    "with open('log/ganador.dat') as file:\n",
    "    lista = file.read().splitlines()\n",
    "ganador_fitness = float(lista[0])\n",
    "ganador_genoma = list(map(float, lista[1].split(',')))\n",
    "\n",
    "# Guardo todo como una super tupla\n",
    "np.save('save/genetico/log_vs_goloso_proba.npy',(fitness,progenitores,ganador_fitness,ganador_genoma))"
   ]
  },
  {
   "cell_type": "code",
   "execution_count": null,
   "metadata": {},
   "outputs": [],
   "source": [
    "(fitness,progenitores,ganador_fitness,ganador_genoma) = np.load('save/genetico/log_vs_goloso_proba.npy')\n",
    "\n",
    "plt.plot(fitness)\n",
    "plt.xlabel('Generación')\n",
    "plt.ylabel('Fitness')\n",
    "plt.axhline(y=ganador_fitness, color='r', linestyle='-')\n",
    "plt.savefig('plots/genetico/vs_goloso_proba.pdf',bbox_inches='tight')\n",
    "plt.show()\n",
    "\n",
    "\n",
    "plt.figure()\n",
    "for i in range(len(progenitores[0])):\n",
    "    plt.plot([genoma[i] for genoma in progenitores],label = 'id %s'%i)\n",
    "    \n",
    "plt.show()"
   ]
  },
  {
   "cell_type": "code",
   "execution_count": null,
   "metadata": {},
   "outputs": [],
   "source": []
  },
  {
   "cell_type": "markdown",
   "metadata": {},
   "source": [
    "\n",
    "# FITNESS:  vs randoms\n",
    "# SELECTION: probabilística\n"
   ]
  },
  {
   "cell_type": "code",
   "execution_count": null,
   "metadata": {
    "scrolled": true
   },
   "outputs": [],
   "source": [
    "generaciones = 60\n",
    "fit = 'f:vs_random'\n",
    "sel = 's:proba'\n",
    "command = comando_genetico(fit,sel)\n",
    "\n",
    "# Ejecuto el entrenamiento. En ./log/ me deja los .dat como logs.\n",
    "shell(command)\n",
    "\n",
    "# Leo los fitness, los formateo en lista\n",
    "with open('log/best_fitness_log.dat') as file:\n",
    "    lista = file.read().splitlines()\n",
    "fitness = list(map(float, lista))\n",
    "\n",
    "# Leo los progenitores, los formateo en lista \n",
    "with open('log/progenitores.dat') as file:\n",
    "    lista = file.read().splitlines()\n",
    "for i in range(len(lista)):\n",
    "    lista[i] = lista[i].split(',')\n",
    "    lista[i] = list(map(float, lista[i]))\n",
    "progenitores = lista\n",
    "\n",
    "# Leo el ganador\n",
    "with open('log/ganador.dat') as file:\n",
    "    lista = file.read().splitlines()\n",
    "ganador_fitness = float(lista[0])\n",
    "ganador_genoma = list(map(float, lista[1].split(',')))\n",
    "\n",
    "# Guardo todo como una super tupla\n",
    "np.save('save/genetico/log_vs_random_proba.npy',(fitness,progenitores,ganador_fitness,ganador_genoma))"
   ]
  },
  {
   "cell_type": "code",
   "execution_count": null,
   "metadata": {},
   "outputs": [],
   "source": [
    "(fitness,progenitores,ganador_fitness,ganador_genoma) = np.load('save/genetico/log_vs_random_proba.npy')\n",
    "\n",
    "plt.plot(fitness)\n",
    "plt.xlabel('Generación')\n",
    "plt.ylabel('Fitness')\n",
    "plt.axhline(y=ganador_fitness, color='r', linestyle='-')\n",
    "plt.savefig('plots/genetico/vs_random_proba.pdf',bbox_inches='tight')\n",
    "plt.show()\n",
    "\n",
    "\n",
    "tops = [progenitores[i*2] for i in range(len(progenitores)//2)]\n",
    "\n",
    "\n",
    "plt.figure()\n",
    "plt.plot([genoma[1] for genoma in tops],label = '2')\n",
    "plt.plot([genoma[2] for genoma in tops],label = '3')\n",
    "plt.plot([genoma[3] for genoma in tops],label = '4')\n",
    "plt.plot([genoma[4] for genoma in tops],label = '5')\n",
    "plt.plot([genoma[5] for genoma in tops],label = '6')\n",
    "plt.legend()\n",
    "\n",
    "plt.figure()\n",
    "plt.plot([genoma[6] for genoma in tops],label = '7')\n",
    "plt.plot([genoma[7] for genoma in tops],label = '8')\n",
    "plt.plot([genoma[8] for genoma in tops],label = '9')\n",
    "plt.plot([genoma[9] for genoma in tops],label = '10')\n",
    "plt.legend()\n",
    "\n",
    "plt.show()"
   ]
  },
  {
   "cell_type": "code",
   "execution_count": null,
   "metadata": {},
   "outputs": [],
   "source": []
  },
  {
   "cell_type": "markdown",
   "metadata": {},
   "source": [
    "\n",
    "# FITNESS:  vs randoms\n",
    "# SELECTION: por rank\n"
   ]
  },
  {
   "cell_type": "code",
   "execution_count": null,
   "metadata": {
    "scrolled": true
   },
   "outputs": [],
   "source": [
    "generaciones = 60\n",
    "\n",
    "fit = 'f:vs_random'\n",
    "sel = 's:rank'\n",
    "command = comando_genetico(fit,sel)\n",
    "\n",
    "# Ejecuto el entrenamiento. En ./log/ me deja los .dat como logs.\n",
    "shell(command)\n",
    "\n",
    "# Leo los fitness, los formateo en lista\n",
    "with open('log/best_fitness_log.dat') as file:\n",
    "    lista = file.read().splitlines()\n",
    "fitness = list(map(float, lista))\n",
    "\n",
    "# Leo los progenitores, los formateo en lista \n",
    "with open('log/progenitores.dat') as file:\n",
    "    lista = file.read().splitlines()\n",
    "for i in range(len(lista)):\n",
    "    lista[i] = lista[i].split(',')\n",
    "    lista[i] = list(map(float, lista[i]))\n",
    "progenitores = lista\n",
    "\n",
    "# Leo el ganador\n",
    "with open('log/ganador.dat') as file:\n",
    "    lista = file.read().splitlines()\n",
    "ganador_fitness = float(lista[0])\n",
    "ganador_genoma = list(map(float, lista[1].split(',')))\n",
    "\n",
    "# Guardo todo como una super tupla\n",
    "np.save('save/genetico/log_vs_random_rank.npy',(fitness,progenitores,ganador_fitness,ganador_genoma))"
   ]
  },
  {
   "cell_type": "code",
   "execution_count": null,
   "metadata": {
    "scrolled": true
   },
   "outputs": [],
   "source": [
    "(fitness,progenitores,ganador_fitness,ganador_genoma) = np.load('save/genetico/log_vs_random_rank.npy')\n",
    "\n",
    "print(ganador_genoma)\n",
    "print(ganador_fitness)\n",
    "\n",
    "plt.plot(fitness)\n",
    "plt.xlabel('Generación')\n",
    "plt.ylabel('Fitness')\n",
    "plt.axhline(y=ganador_fitness, color='r', linestyle='-')\n",
    "plt.savefig('plots/genetico/vs_random_rank.pdf',bbox_inches='tight')\n",
    "plt.show()\n",
    "\n",
    "\n",
    "tops = [progenitores[i*2] for i in range(len(progenitores)//2)]\n",
    "\n",
    "plt.figure()\n",
    "plt.plot([genoma[1] for genoma in tops],label = '2')\n",
    "plt.plot([genoma[2] for genoma in tops],label = '3')\n",
    "plt.plot([genoma[3] for genoma in tops],label = '4')\n",
    "plt.plot([genoma[4] for genoma in tops],label = '5')\n",
    "plt.plot([genoma[5] for genoma in tops],label = '6')\n",
    "plt.legend()\n",
    "\n",
    "plt.figure()\n",
    "plt.plot([genoma[6] for genoma in tops],label = '7')\n",
    "plt.plot([genoma[7] for genoma in tops],label = '8')\n",
    "plt.plot([genoma[8] for genoma in tops],label = '9')\n",
    "plt.plot([genoma[9] for genoma in tops],label = '10')\n",
    "plt.legend()\n",
    "\n",
    "plt.show()"
   ]
  },
  {
   "cell_type": "code",
   "execution_count": null,
   "metadata": {},
   "outputs": [],
   "source": []
  },
  {
   "cell_type": "markdown",
   "metadata": {},
   "source": [
    "\n",
    "# FITNESS:  vs golosos random\n",
    "# SELECTION: rank\n"
   ]
  },
  {
   "cell_type": "code",
   "execution_count": null,
   "metadata": {
    "scrolled": true
   },
   "outputs": [],
   "source": [
    "fit = 'f:vs_golosos'\n",
    "sel = 's:rank'\n",
    "command = comando_genetico(fit,sel)\n",
    "\n",
    "# Ejecuto el entrenamiento. En ./log/ me deja los .dat como logs.\n",
    "# shell(command)\n",
    "\n",
    "# Leo los fitness, los formateo en lista\n",
    "with open('log/best_fitness_log.dat') as file:\n",
    "    lista = file.read().splitlines()\n",
    "fitness = list(map(float, lista))\n",
    "\n",
    "# Leo los progenitores, los formateo en lista \n",
    "with open('log/progenitores.dat') as file:\n",
    "    lista = file.read().splitlines()\n",
    "for i in range(len(lista)):\n",
    "    lista[i] = lista[i].split(',')\n",
    "    lista[i] = list(map(float, lista[i]))\n",
    "progenitores = lista\n",
    "\n",
    "# Leo el ganador\n",
    "with open('log/ganador.dat') as file:\n",
    "    lista = file.read().splitlines()\n",
    "ganador_fitness = float(lista[0])\n",
    "ganador_genoma = list(map(float, lista[1].split(',')))\n",
    "\n",
    "# Guardo todo como una super tupla\n",
    "np.save('save/genetico/log_vs_goloso_rank.npy',(fitness,progenitores,ganador_fitness,ganador_genoma))"
   ]
  },
  {
   "cell_type": "code",
   "execution_count": null,
   "metadata": {},
   "outputs": [],
   "source": [
    "(fitness,progenitores,ganador_fitness,ganador_genoma) = np.load('save/genetico/log_vs_goloso_rank.npy')\n",
    "\n",
    "plt.plot(fitness)\n",
    "plt.xlabel('Generación')\n",
    "plt.ylabel('Fitness')\n",
    "plt.axhline(y=ganador_fitness, color='r', linestyle='-')\n",
    "plt.plot()\n",
    "plt.show()\n",
    "\n",
    "plt.figure()\n",
    "\n",
    "for i in range(len(progenitores[0])):\n",
    "    plt.plot([genoma[i] for genoma in progenitores],label = 'id %s'%i)\n",
    "    \n",
    "plt.show()"
   ]
  },
  {
   "cell_type": "code",
   "execution_count": null,
   "metadata": {},
   "outputs": [],
   "source": []
  }
 ],
 "metadata": {
  "kernelspec": {
   "display_name": "Python 3",
   "language": "python",
   "name": "python3"
  },
  "language_info": {
   "codemirror_mode": {
    "name": "ipython",
    "version": 3
   },
   "file_extension": ".py",
   "mimetype": "text/x-python",
   "name": "python",
   "nbconvert_exporter": "python",
   "pygments_lexer": "ipython3",
   "version": "3.5.2"
  }
 },
 "nbformat": 4,
 "nbformat_minor": 2
}
