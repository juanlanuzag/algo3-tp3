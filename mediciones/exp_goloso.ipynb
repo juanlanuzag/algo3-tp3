{
 "cells": [
  {
   "cell_type": "code",
   "execution_count": null,
   "metadata": {},
   "outputs": [],
   "source": [
    "import pandas as pd\n",
    "import numpy as np\n",
    "import matplotlib.pyplot as plt\n",
    "import os\n",
    "import csv\n",
    "\n",
    "# Paths del binario que mide tiempos\n",
    "medidor = './tiempos'\n",
    "unidad = 'micros'\n",
    "\n",
    "# Variables de estadísticos\n",
    "muestras = 5\n"
   ]
  },
  {
   "cell_type": "markdown",
   "metadata": {},
   "source": [
    "# Midiendo tiempos del goloso\n",
    "Para distintos M,N medir los tiempos de C = 1 ... min(M,N)"
   ]
  },
  {
   "cell_type": "code",
   "execution_count": null,
   "metadata": {},
   "outputs": [],
   "source": [
    "NN = range(1,200,20)\n",
    "MM = range(1,250,20)\n",
    "# C = min(M,N)\n"
   ]
  },
  {
   "cell_type": "code",
   "execution_count": null,
   "metadata": {},
   "outputs": [],
   "source": [
    "ai = '-g'\n",
    "\n",
    "tiempos = np.zeros((len(NN),len(MM))) # \n",
    "\n",
    "n = 0\n",
    "for N in NN:\n",
    "    m = 0\n",
    "    for M in MM:\n",
    "        C = min(N,M)\n",
    "        P = N*M\n",
    "        tt = []\n",
    "        goloso = ai\n",
    "        for i in range(C+10):\n",
    "            goloso = goloso + ' -1'\n",
    "        command = medidor+' '+str(N)+' '+str(M)+' '+str(C)+' '+str(P)\n",
    "        command+=' -t '+unidad+' '+goloso\n",
    "        for k in range(muestras):\n",
    "\n",
    "            tt.append(float(os.popen(command).read()))\n",
    "        tiempos[n][m] = np.min(tt)\n",
    "        m+=1\n",
    "    print(N)\n",
    "    n+=1\n",
    "np.save('save/tiempos_goloso.npy',tiempos)\n",
    "\n"
   ]
  },
  {
   "cell_type": "code",
   "execution_count": null,
   "metadata": {},
   "outputs": [],
   "source": [
    "import seaborn as sns\n",
    "\n",
    "tiempos = np.load('save/tiempos_goloso.npy')\n",
    "tiempos = tiempos/1000\n",
    "print(len(tiempos[0]))\n",
    "\n",
    "# Heatmap\n",
    "xticks = range(0,250,20)\n",
    "yticks = range(0,200,20)\n",
    "\n",
    "sns.heatmap(tiempos,cmap='viridis',xticklabels=xticks,yticklabels=yticks,cbar_kws={'label': 'Tiempo de cómputo [mseg]'})\n",
    "\n",
    "plt.xticks(rotation=70)\n",
    "plt.xlabel('M (filas)')\n",
    "plt.ylabel('N (columnas)')\n",
    "plt.tight_layout()\n",
    "plt.savefig('plots/goloso_heatmap.pdf')\n",
    "plt.show()\n",
    "\n",
    "\n",
    "# Curva N\n",
    "plt.plot(NN,tiempos[:,2],label='Tablero de 40 filas')\n",
    "plt.plot(NN,tiempos[:,6],label='Tablero de 120 filas')\n",
    "plt.plot(NN,tiempos[:,10],label='Tablero de 200 filas')\n",
    "plt.plot(NN,tiempos[:,12],label='Tablero de 240 filas')\n",
    "plt.legend()\n",
    "plt.xlabel('N (columnas)')\n",
    "plt.ylabel('Tiempo de cómputo [mseg]')\n",
    "plt.savefig('plots/goloso_N.pdf')\n",
    "plt.show()\n",
    "\n",
    "# Curva M\n",
    "plt.plot(MM,tiempos[5],label='Tablero de 100 columnas')\n",
    "plt.plot(MM,tiempos[6],label='Tablero de 120 columnas')\n",
    "plt.plot(MM,tiempos[7],label='Tablero de 140 columnas')\n",
    "plt.plot(MM,tiempos[8],label='Tablero de 160 columnas')\n",
    "plt.legend()\n",
    "plt.xlabel('M (filas)')\n",
    "plt.ylabel('Tiempo de cómputo [mseg]')\n",
    "plt.savefig('plots/goloso_M.pdf')\n",
    "plt.show()\n",
    "\n",
    "# Curva cociente M\n",
    "plt.plot(MM,tiempos[5]/MM,label='Tablero de 100 columnas')\n",
    "plt.plot(MM,tiempos[6]/MM,label='Tablero de 120 columnas')\n",
    "plt.plot(MM,tiempos[7]/MM,label='Tablero de 140 columnas')\n",
    "plt.plot(MM,tiempos[8]/MM,label='Tablero de 160 columnas')\n",
    "plt.legend()\n",
    "plt.xlabel('M (filas)')\n",
    "plt.ylabel('Tiempo de cómputo / M [mseg]')\n",
    "plt.savefig('plots/goloso_M_cociente.pdf')\n",
    "plt.show()"
   ]
  },
  {
   "cell_type": "code",
   "execution_count": null,
   "metadata": {},
   "outputs": [],
   "source": []
  }
 ],
 "metadata": {
  "kernelspec": {
   "display_name": "Python 3",
   "language": "python",
   "name": "python3"
  },
  "language_info": {
   "codemirror_mode": {
    "name": "ipython",
    "version": 3
   },
   "file_extension": ".py",
   "mimetype": "text/x-python",
   "name": "python",
   "nbconvert_exporter": "python",
   "pygments_lexer": "ipython3",
   "version": "3.5.2"
  }
 },
 "nbformat": 4,
 "nbformat_minor": 2
}
